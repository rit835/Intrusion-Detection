{
 "cells": [
  {
   "cell_type": "code",
   "execution_count": 1,
   "metadata": {},
   "outputs": [],
   "source": [
    "import cv2\n",
    "import numpy as np"
   ]
  },
  {
   "cell_type": "code",
   "execution_count": 2,
   "metadata": {},
   "outputs": [],
   "source": [
    "c = cv2.CascadeClassifier('haarcascade_fullbody.xml')"
   ]
  },
  {
   "cell_type": "code",
   "execution_count": 3,
   "metadata": {},
   "outputs": [],
   "source": [
    "v = cv2.VideoCapture('people.mp4')"
   ]
  },
  {
   "cell_type": "code",
   "execution_count": 4,
   "metadata": {},
   "outputs": [],
   "source": [
    "fourcc = cv2.VideoWriter_fourcc(*'XVID')\n",
    "op = cv2.VideoWriter('output2.mp4',fourcc, 10, (640,360))"
   ]
  },
  {
   "cell_type": "code",
   "execution_count": 5,
   "metadata": {},
   "outputs": [],
   "source": [
    "pos = []\n",
    "def onMouse(event,x,y,flags,param):\n",
    "    global pos\n",
    "    if event == cv2.EVENT_LBUTTONDOWN:\n",
    "        pos.append([x,y])"
   ]
  },
  {
   "cell_type": "code",
   "execution_count": 6,
   "metadata": {},
   "outputs": [],
   "source": [
    "while True:\n",
    "    e,f = v.read()\n",
    "    if e:\n",
    "        f = cv2.resize(f,(640,360))\n",
    "        gray = cv2.cvtColor(f,cv2.COLOR_BGR2GRAY)\n",
    "        d = c.detectMultiScale(gray)\n",
    "        key = cv2.waitKey(1)\n",
    "        if key == ord('p'):  # pause frame till any other key is pressed\n",
    "            cv2.namedWindow('frame')\n",
    "            cv2.setMouseCallback('frame',onMouse)\n",
    "            cv2.waitKey(-1)\n",
    "        posarr = np.array(pos)\n",
    "        posarr = posarr.reshape((-1,1,2))\n",
    "        \n",
    "        cv2.polylines(f,[posarr],True,(0,255,255),2)\n",
    "        for (x,y,w,h) in d:\n",
    "            cv2.rectangle(f,(x,y),(x+w,y+h),(0,255,0),2)\n",
    "            cent = (int(x+w/2),int(y+h/2))\n",
    "            if (posarr.size != 0): # press to check if point is inside region\n",
    "                result = cv2.pointPolygonTest(posarr, cent, False)\n",
    "                if(result == 1)or(result == 0):\n",
    "                    cv2.rectangle(f,(x,y),(x+w,y+h),(0,0,255),2)\n",
    "                    \n",
    "        cv2.imshow('frame',f)\n",
    "        op.write(f)\n",
    "        if key == ord('q'):  # quit all frames\n",
    "            break\n",
    "v.release()\n",
    "op.release()\n",
    "cv2.destroyAllWindows()"
   ]
  }
 ],
 "metadata": {
  "kernelspec": {
   "display_name": "Python 3",
   "language": "python",
   "name": "python3"
  },
  "language_info": {
   "codemirror_mode": {
    "name": "ipython",
    "version": 3
   },
   "file_extension": ".py",
   "mimetype": "text/x-python",
   "name": "python",
   "nbconvert_exporter": "python",
   "pygments_lexer": "ipython3",
   "version": "3.5.6"
  }
 },
 "nbformat": 4,
 "nbformat_minor": 4
}
