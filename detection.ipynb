{
 "cells": [
  {
   "cell_type": "code",
   "execution_count": 1,
   "metadata": {},
   "outputs": [],
   "source": [
    "import cv2\n",
    "import numpy as np"
   ]
  },
  {
   "cell_type": "code",
   "execution_count": 2,
   "metadata": {},
   "outputs": [],
   "source": [
    "haar = cv2.CascadeClassifier('haarcascade_fullbody.xml')"
   ]
  },
  {
   "cell_type": "code",
   "execution_count": 3,
   "metadata": {},
   "outputs": [],
   "source": [
    "video = cv2.VideoCapture('people.mp4')"
   ]
  },
  {
   "cell_type": "code",
   "execution_count": 4,
   "metadata": {},
   "outputs": [],
   "source": [
    "e,frame = video.read()\n",
    "(height,width) = frame.shape[:2]"
   ]
  },
  {
   "cell_type": "code",
   "execution_count": 5,
   "metadata": {},
   "outputs": [],
   "source": [
    "def scale(height,width,scale_percent):\n",
    "    new_width = int(width * scale_percent / 100)\n",
    "    new_height = int(height * scale_percent / 100)\n",
    "    dim = (new_width, new_height)\n",
    "    return dim"
   ]
  },
  {
   "cell_type": "code",
   "execution_count": 6,
   "metadata": {},
   "outputs": [],
   "source": [
    "fourcc = cv2.VideoWriter_fourcc(*'XVID')\n",
    "output = cv2.VideoWriter('output2.mp4',fourcc, 10,scale(height,width,100))"
   ]
  },
  {
   "cell_type": "code",
   "execution_count": 7,
   "metadata": {},
   "outputs": [],
   "source": [
    "position = []\n",
    "def onMouse(event,x,y,flags,param):\n",
    "    global position\n",
    "    if event == cv2.EVENT_LBUTTONDOWN:\n",
    "        position.append([x,y])"
   ]
  },
  {
   "cell_type": "code",
   "execution_count": 8,
   "metadata": {},
   "outputs": [],
   "source": [
    "while True:\n",
    "    e,frame = video.read()\n",
    "    if e:\n",
    "        frame = cv2.resize(frame,scale(height,width,50),interpolation = cv2.INTER_AREA)\n",
    "        gray = cv2.cvtColor(frame,cv2.COLOR_BGR2GRAY)\n",
    "        detect = haar.detectMultiScale(gray)\n",
    "        key = cv2.waitKey(1)\n",
    "        if key == ord('p'):  # pause frame till any other key is pressed\n",
    "            cv2.namedWindow('frame')\n",
    "            cv2.setMouseCallback('frame',onMouse)\n",
    "            cv2.waitKey(-1)\n",
    "        position_array = np.array(position)\n",
    "        position_array = position_array.reshape((-1,1,2))\n",
    "        \n",
    "        cv2.polylines(frame,[position_array],True,(0,255,255),2)\n",
    "        for (x,y,w,h) in detect:\n",
    "            cv2.rectangle(frame,(x,y),(x+w,y+h),(0,255,0),2)\n",
    "            centre = (int(x+w/2),int(y+h/2))\n",
    "            if (position_array.size != 0): # to check if point is inside region\n",
    "                result = cv2.pointPolygonTest(position_array, centre, False)\n",
    "                if(result == 1)or(result == 0):\n",
    "                    cv2.rectangle(frame,(x,y),(x+w,y+h),(0,0,255),2)\n",
    "                    \n",
    "        cv2.imshow('frame',frame)\n",
    "        frame = cv2.resize(frame,scale(height,width,100),interpolation = cv2.INTER_CUBIC)\n",
    "        output.write(frame)\n",
    "        if key == ord('q'):  # quit all frames\n",
    "            break\n",
    "video.release()\n",
    "output.release()\n",
    "cv2.destroyAllWindows()"
   ]
  }
 ],
 "metadata": {
  "kernelspec": {
   "display_name": "Python 3",
   "language": "python",
   "name": "python3"
  },
  "language_info": {
   "codemirror_mode": {
    "name": "ipython",
    "version": 3
   },
   "file_extension": ".py",
   "mimetype": "text/x-python",
   "name": "python",
   "nbconvert_exporter": "python",
   "pygments_lexer": "ipython3",
   "version": "3.5.6"
  }
 },
 "nbformat": 4,
 "nbformat_minor": 4
}
